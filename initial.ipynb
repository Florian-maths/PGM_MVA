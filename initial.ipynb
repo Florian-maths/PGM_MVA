{
 "cells": [
  {
   "cell_type": "code",
   "execution_count": 1,
   "metadata": {},
   "outputs": [
    {
     "name": "stdout",
     "output_type": "stream",
     "text": [
      "Obtaining file:///home/onyxia/work/PGM_MVA\n",
      "  Installing build dependencies ... \u001b[?25ldone\n",
      "\u001b[?25h  Checking if build backend supports build_editable ... \u001b[?25ldone\n",
      "\u001b[?25h  Getting requirements to build editable ... \u001b[?25ldone\n",
      "\u001b[?25h  Preparing editable metadata (pyproject.toml) ... \u001b[?25ldone\n",
      "\u001b[?25hBuilding wheels for collected packages: PGM_sujet_3\n",
      "  Building editable for PGM_sujet_3 (pyproject.toml) ... \u001b[?25ldone\n",
      "\u001b[?25h  Created wheel for PGM_sujet_3: filename=PGM_sujet_3-0.1.0-0.editable-py3-none-any.whl size=2684 sha256=7d069bc8e12972aaaf8b7fbf45f30f87335c1f0c8ec1755b7fc8c65351299d1f\n",
      "  Stored in directory: /tmp/pip-ephem-wheel-cache-9f_n3xos/wheels/09/8c/66/a57e8c60bd4cc1b6024f23c9144b2ff28cd31ae020d9fcdcaa\n",
      "Successfully built PGM_sujet_3\n",
      "Installing collected packages: PGM_sujet_3\n",
      "Successfully installed PGM_sujet_3-0.1.0\n",
      "Note: you may need to restart the kernel to use updated packages.\n"
     ]
    }
   ],
   "source": [
    "pip install -e ."
   ]
  }
 ],
 "metadata": {
  "kernelspec": {
   "display_name": ".venv",
   "language": "python",
   "name": "python3"
  },
  "language_info": {
   "codemirror_mode": {
    "name": "ipython",
    "version": 3
   },
   "file_extension": ".py",
   "mimetype": "text/x-python",
   "name": "python",
   "nbconvert_exporter": "python",
   "pygments_lexer": "ipython3",
   "version": "3.12.6"
  }
 },
 "nbformat": 4,
 "nbformat_minor": 2
}
